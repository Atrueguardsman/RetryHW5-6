{
 "cells": [
  {
   "cell_type": "code",
   "execution_count": 16,
   "metadata": {},
   "outputs": [
    {
     "data": {
      "text/plain": [
       "<module 'matplotlib.style' from 'C:\\\\Users\\\\nicka\\\\anaconda3\\\\lib\\\\site-packages\\\\matplotlib\\\\style\\\\__init__.py'>"
      ]
     },
     "execution_count": 16,
     "metadata": {},
     "output_type": "execute_result"
    }
   ],
   "source": [
    "import pandas as pd  # importing pandas, and numpy as a variable to recall easier\n",
    "import numpy as np\n",
    "import matplotlib.pyplot as plt\n",
    "plt.style"
   ]
  },
  {
   "cell_type": "code",
   "execution_count": 19,
   "metadata": {},
   "outputs": [
    {
     "data": {
      "text/html": [
       "<div>\n",
       "<style scoped>\n",
       "    .dataframe tbody tr th:only-of-type {\n",
       "        vertical-align: middle;\n",
       "    }\n",
       "\n",
       "    .dataframe tbody tr th {\n",
       "        vertical-align: top;\n",
       "    }\n",
       "\n",
       "    .dataframe thead th {\n",
       "        text-align: right;\n",
       "    }\n",
       "</style>\n",
       "<table border=\"1\" class=\"dataframe\">\n",
       "  <thead>\n",
       "    <tr style=\"text-align: right;\">\n",
       "      <th></th>\n",
       "      <th>date</th>\n",
       "      <th>user</th>\n",
       "      <th>pc</th>\n",
       "      <th>to</th>\n",
       "      <th>from</th>\n",
       "      <th>size</th>\n",
       "      <th>attachments</th>\n",
       "      <th>content</th>\n",
       "    </tr>\n",
       "  </thead>\n",
       "  <tbody>\n",
       "    <tr>\n",
       "      <th>0</th>\n",
       "      <td>1/2/2010 7:11</td>\n",
       "      <td>LAP0338</td>\n",
       "      <td>PC-5758</td>\n",
       "      <td>Dean.Flynn.Hines@dtaa.com;Wade_Harrison@lockhe...</td>\n",
       "      <td>Lynn.Adena.Pratt@dtaa.com</td>\n",
       "      <td>25830</td>\n",
       "      <td>0</td>\n",
       "      <td>middle f2 systems 4 july techniques powerful d...</td>\n",
       "    </tr>\n",
       "    <tr>\n",
       "      <th>1</th>\n",
       "      <td>1/2/2010 7:12</td>\n",
       "      <td>MOH0273</td>\n",
       "      <td>PC-6699</td>\n",
       "      <td>Odonnell-Gage@bellsouth.net</td>\n",
       "      <td>MOH68@optonline.net</td>\n",
       "      <td>29942</td>\n",
       "      <td>0</td>\n",
       "      <td>the breaking called allied reservations former...</td>\n",
       "    </tr>\n",
       "    <tr>\n",
       "      <th>2</th>\n",
       "      <td>1/2/2010 7:13</td>\n",
       "      <td>LAP0338</td>\n",
       "      <td>PC-5758</td>\n",
       "      <td>Penelope_Colon@netzero.com</td>\n",
       "      <td>Lynn_A_Pratt@earthlink.net</td>\n",
       "      <td>28780</td>\n",
       "      <td>0</td>\n",
       "      <td>slowly this uncinus winter beneath addition ex...</td>\n",
       "    </tr>\n",
       "    <tr>\n",
       "      <th>3</th>\n",
       "      <td>1/2/2010 7:13</td>\n",
       "      <td>LAP0338</td>\n",
       "      <td>PC-5758</td>\n",
       "      <td>Judith_Hayden@comcast.net</td>\n",
       "      <td>Lynn_A_Pratt@earthlink.net</td>\n",
       "      <td>21907</td>\n",
       "      <td>0</td>\n",
       "      <td>400 other difficult land cirrocumulus powered ...</td>\n",
       "    </tr>\n",
       "    <tr>\n",
       "      <th>4</th>\n",
       "      <td>1/2/2010 7:13</td>\n",
       "      <td>MOH0273</td>\n",
       "      <td>PC-6699</td>\n",
       "      <td>Bond-Raymond@verizon.net;Alea_Ferrell@msn.com;...</td>\n",
       "      <td>MOH68@optonline.net</td>\n",
       "      <td>17319</td>\n",
       "      <td>0</td>\n",
       "      <td>this kmh october holliswood number advised unu...</td>\n",
       "    </tr>\n",
       "    <tr>\n",
       "      <th>...</th>\n",
       "      <td>...</td>\n",
       "      <td>...</td>\n",
       "      <td>...</td>\n",
       "      <td>...</td>\n",
       "      <td>...</td>\n",
       "      <td>...</td>\n",
       "      <td>...</td>\n",
       "      <td>...</td>\n",
       "    </tr>\n",
       "    <tr>\n",
       "      <th>10261</th>\n",
       "      <td>1/5/2010 9:42</td>\n",
       "      <td>IUY0279</td>\n",
       "      <td>PC-9140</td>\n",
       "      <td>Octavius.Kelly.Castaneda@dtaa.com</td>\n",
       "      <td>Igor.Ulric.Yang@dtaa.com</td>\n",
       "      <td>21457</td>\n",
       "      <td>3</td>\n",
       "      <td>originally six became swan been black creek de...</td>\n",
       "    </tr>\n",
       "    <tr>\n",
       "      <th>10262</th>\n",
       "      <td>1/5/2010 9:42</td>\n",
       "      <td>KDS0349</td>\n",
       "      <td>PC-1478</td>\n",
       "      <td>MacKensie.L.Bridges@yahoo.com</td>\n",
       "      <td>Kim_Sullivan@gmail.com</td>\n",
       "      <td>39443</td>\n",
       "      <td>0</td>\n",
       "      <td>waiting v failed revived jealousy rage frivolo...</td>\n",
       "    </tr>\n",
       "    <tr>\n",
       "      <th>10263</th>\n",
       "      <td>1/5/2010 9:42</td>\n",
       "      <td>AIM0627</td>\n",
       "      <td>PC-3297</td>\n",
       "      <td>Leo.Elmo.Monroe@dtaa.com</td>\n",
       "      <td>Adam.Ishmael.Mcdaniel@dtaa.com</td>\n",
       "      <td>30506</td>\n",
       "      <td>0</td>\n",
       "      <td>phillip charts including square fine jackson c...</td>\n",
       "    </tr>\n",
       "    <tr>\n",
       "      <th>10264</th>\n",
       "      <td>1/5/2010 9:42</td>\n",
       "      <td>JLM0364</td>\n",
       "      <td>PC-3791</td>\n",
       "      <td>William.Price.Robles@dtaa.com;TaShya.Savannah....</td>\n",
       "      <td>Jacqueline.Latifah.Miles@dtaa.com</td>\n",
       "      <td>17148</td>\n",
       "      <td>0</td>\n",
       "      <td>chairman idea schoolteacher between source unh...</td>\n",
       "    </tr>\n",
       "    <tr>\n",
       "      <th>10265</th>\n",
       "      <td>1/5/2010 9:42</td>\n",
       "      <td>LQP0508</td>\n",
       "      <td>PC-3233</td>\n",
       "      <td>Camilla.Claire.Whitehead@dtaa.com</td>\n",
       "      <td>Lester.Quamar.Pearson@dtaa.com</td>\n",
       "      <td>34864</td>\n",
       "      <td>0</td>\n",
       "      <td>sales 2 vowed runner wii presented game contin...</td>\n",
       "    </tr>\n",
       "  </tbody>\n",
       "</table>\n",
       "<p>10266 rows × 8 columns</p>\n",
       "</div>"
      ],
      "text/plain": [
       "                date     user       pc  \\\n",
       "0      1/2/2010 7:11  LAP0338  PC-5758   \n",
       "1      1/2/2010 7:12  MOH0273  PC-6699   \n",
       "2      1/2/2010 7:13  LAP0338  PC-5758   \n",
       "3      1/2/2010 7:13  LAP0338  PC-5758   \n",
       "4      1/2/2010 7:13  MOH0273  PC-6699   \n",
       "...              ...      ...      ...   \n",
       "10261  1/5/2010 9:42  IUY0279  PC-9140   \n",
       "10262  1/5/2010 9:42  KDS0349  PC-1478   \n",
       "10263  1/5/2010 9:42  AIM0627  PC-3297   \n",
       "10264  1/5/2010 9:42  JLM0364  PC-3791   \n",
       "10265  1/5/2010 9:42  LQP0508  PC-3233   \n",
       "\n",
       "                                                      to  \\\n",
       "0      Dean.Flynn.Hines@dtaa.com;Wade_Harrison@lockhe...   \n",
       "1                            Odonnell-Gage@bellsouth.net   \n",
       "2                             Penelope_Colon@netzero.com   \n",
       "3                              Judith_Hayden@comcast.net   \n",
       "4      Bond-Raymond@verizon.net;Alea_Ferrell@msn.com;...   \n",
       "...                                                  ...   \n",
       "10261                  Octavius.Kelly.Castaneda@dtaa.com   \n",
       "10262                      MacKensie.L.Bridges@yahoo.com   \n",
       "10263                           Leo.Elmo.Monroe@dtaa.com   \n",
       "10264  William.Price.Robles@dtaa.com;TaShya.Savannah....   \n",
       "10265                  Camilla.Claire.Whitehead@dtaa.com   \n",
       "\n",
       "                                    from   size  attachments  \\\n",
       "0              Lynn.Adena.Pratt@dtaa.com  25830            0   \n",
       "1                    MOH68@optonline.net  29942            0   \n",
       "2             Lynn_A_Pratt@earthlink.net  28780            0   \n",
       "3             Lynn_A_Pratt@earthlink.net  21907            0   \n",
       "4                    MOH68@optonline.net  17319            0   \n",
       "...                                  ...    ...          ...   \n",
       "10261           Igor.Ulric.Yang@dtaa.com  21457            3   \n",
       "10262             Kim_Sullivan@gmail.com  39443            0   \n",
       "10263     Adam.Ishmael.Mcdaniel@dtaa.com  30506            0   \n",
       "10264  Jacqueline.Latifah.Miles@dtaa.com  17148            0   \n",
       "10265     Lester.Quamar.Pearson@dtaa.com  34864            0   \n",
       "\n",
       "                                                 content  \n",
       "0      middle f2 systems 4 july techniques powerful d...  \n",
       "1      the breaking called allied reservations former...  \n",
       "2      slowly this uncinus winter beneath addition ex...  \n",
       "3      400 other difficult land cirrocumulus powered ...  \n",
       "4      this kmh october holliswood number advised unu...  \n",
       "...                                                  ...  \n",
       "10261  originally six became swan been black creek de...  \n",
       "10262  waiting v failed revived jealousy rage frivolo...  \n",
       "10263  phillip charts including square fine jackson c...  \n",
       "10264  chairman idea schoolteacher between source unh...  \n",
       "10265  sales 2 vowed runner wii presented game contin...  \n",
       "\n",
       "[10266 rows x 8 columns]"
      ]
     },
     "execution_count": 19,
     "metadata": {},
     "output_type": "execute_result"
    }
   ],
   "source": [
    "df = pd.read_csv('./Insiderthreat.csv') #reading csv and we save it into a variable\n",
    "df.head() \n",
    "\n",
    "df.dropna(axis=1) # removing NaN's "
   ]
  },
  {
   "cell_type": "code",
   "execution_count": 20,
   "metadata": {},
   "outputs": [
    {
     "data": {
      "text/html": [
       "<div>\n",
       "<style scoped>\n",
       "    .dataframe tbody tr th:only-of-type {\n",
       "        vertical-align: middle;\n",
       "    }\n",
       "\n",
       "    .dataframe tbody tr th {\n",
       "        vertical-align: top;\n",
       "    }\n",
       "\n",
       "    .dataframe thead th {\n",
       "        text-align: right;\n",
       "    }\n",
       "</style>\n",
       "<table border=\"1\" class=\"dataframe\">\n",
       "  <thead>\n",
       "    <tr style=\"text-align: right;\">\n",
       "      <th></th>\n",
       "      <th>to</th>\n",
       "      <th>from</th>\n",
       "      <th>attachments</th>\n",
       "    </tr>\n",
       "  </thead>\n",
       "  <tbody>\n",
       "    <tr>\n",
       "      <th>0</th>\n",
       "      <td>Dean.Flynn.Hines@dtaa.com;Wade_Harrison@lockhe...</td>\n",
       "      <td>Lynn.Adena.Pratt@dtaa.com</td>\n",
       "      <td>0</td>\n",
       "    </tr>\n",
       "    <tr>\n",
       "      <th>1</th>\n",
       "      <td>Odonnell-Gage@bellsouth.net</td>\n",
       "      <td>MOH68@optonline.net</td>\n",
       "      <td>0</td>\n",
       "    </tr>\n",
       "    <tr>\n",
       "      <th>2</th>\n",
       "      <td>Penelope_Colon@netzero.com</td>\n",
       "      <td>Lynn_A_Pratt@earthlink.net</td>\n",
       "      <td>0</td>\n",
       "    </tr>\n",
       "    <tr>\n",
       "      <th>3</th>\n",
       "      <td>Judith_Hayden@comcast.net</td>\n",
       "      <td>Lynn_A_Pratt@earthlink.net</td>\n",
       "      <td>0</td>\n",
       "    </tr>\n",
       "    <tr>\n",
       "      <th>4</th>\n",
       "      <td>Bond-Raymond@verizon.net;Alea_Ferrell@msn.com;...</td>\n",
       "      <td>MOH68@optonline.net</td>\n",
       "      <td>0</td>\n",
       "    </tr>\n",
       "    <tr>\n",
       "      <th>...</th>\n",
       "      <td>...</td>\n",
       "      <td>...</td>\n",
       "      <td>...</td>\n",
       "    </tr>\n",
       "    <tr>\n",
       "      <th>10261</th>\n",
       "      <td>Octavius.Kelly.Castaneda@dtaa.com</td>\n",
       "      <td>Igor.Ulric.Yang@dtaa.com</td>\n",
       "      <td>3</td>\n",
       "    </tr>\n",
       "    <tr>\n",
       "      <th>10262</th>\n",
       "      <td>MacKensie.L.Bridges@yahoo.com</td>\n",
       "      <td>Kim_Sullivan@gmail.com</td>\n",
       "      <td>0</td>\n",
       "    </tr>\n",
       "    <tr>\n",
       "      <th>10263</th>\n",
       "      <td>Leo.Elmo.Monroe@dtaa.com</td>\n",
       "      <td>Adam.Ishmael.Mcdaniel@dtaa.com</td>\n",
       "      <td>0</td>\n",
       "    </tr>\n",
       "    <tr>\n",
       "      <th>10264</th>\n",
       "      <td>William.Price.Robles@dtaa.com;TaShya.Savannah....</td>\n",
       "      <td>Jacqueline.Latifah.Miles@dtaa.com</td>\n",
       "      <td>0</td>\n",
       "    </tr>\n",
       "    <tr>\n",
       "      <th>10265</th>\n",
       "      <td>Camilla.Claire.Whitehead@dtaa.com</td>\n",
       "      <td>Lester.Quamar.Pearson@dtaa.com</td>\n",
       "      <td>0</td>\n",
       "    </tr>\n",
       "  </tbody>\n",
       "</table>\n",
       "<p>10266 rows × 3 columns</p>\n",
       "</div>"
      ],
      "text/plain": [
       "                                                      to  \\\n",
       "0      Dean.Flynn.Hines@dtaa.com;Wade_Harrison@lockhe...   \n",
       "1                            Odonnell-Gage@bellsouth.net   \n",
       "2                             Penelope_Colon@netzero.com   \n",
       "3                              Judith_Hayden@comcast.net   \n",
       "4      Bond-Raymond@verizon.net;Alea_Ferrell@msn.com;...   \n",
       "...                                                  ...   \n",
       "10261                  Octavius.Kelly.Castaneda@dtaa.com   \n",
       "10262                      MacKensie.L.Bridges@yahoo.com   \n",
       "10263                           Leo.Elmo.Monroe@dtaa.com   \n",
       "10264  William.Price.Robles@dtaa.com;TaShya.Savannah....   \n",
       "10265                  Camilla.Claire.Whitehead@dtaa.com   \n",
       "\n",
       "                                    from  attachments  \n",
       "0              Lynn.Adena.Pratt@dtaa.com            0  \n",
       "1                    MOH68@optonline.net            0  \n",
       "2             Lynn_A_Pratt@earthlink.net            0  \n",
       "3             Lynn_A_Pratt@earthlink.net            0  \n",
       "4                    MOH68@optonline.net            0  \n",
       "...                                  ...          ...  \n",
       "10261           Igor.Ulric.Yang@dtaa.com            3  \n",
       "10262             Kim_Sullivan@gmail.com            0  \n",
       "10263     Adam.Ishmael.Mcdaniel@dtaa.com            0  \n",
       "10264  Jacqueline.Latifah.Miles@dtaa.com            0  \n",
       "10265     Lester.Quamar.Pearson@dtaa.com            0  \n",
       "\n",
       "[10266 rows x 3 columns]"
      ]
     },
     "execution_count": 20,
     "metadata": {},
     "output_type": "execute_result"
    }
   ],
   "source": [
    "df[[\"to\",\"from\",\"attachments\"]] # created a list of names to filter through"
   ]
  },
  {
   "cell_type": "code",
   "execution_count": 22,
   "metadata": {},
   "outputs": [
    {
     "data": {
      "text/plain": [
       "Index(['date', 'user', 'pc', 'to', 'cc', 'bcc', 'from', 'size', 'attachments',\n",
       "       'content'],\n",
       "      dtype='object')"
      ]
     },
     "execution_count": 22,
     "metadata": {},
     "output_type": "execute_result"
    }
   ],
   "source": [
    "df.columns # created columns for visibility"
   ]
  },
  {
   "cell_type": "code",
   "execution_count": 27,
   "metadata": {},
   "outputs": [
    {
     "data": {
      "text/plain": [
       "{'whiskers': [<matplotlib.lines.Line2D at 0x1e19f0e14c8>,\n",
       "  <matplotlib.lines.Line2D at 0x1e1c3b41cc8>],\n",
       " 'caps': [<matplotlib.lines.Line2D at 0x1e1c3b41a88>,\n",
       "  <matplotlib.lines.Line2D at 0x1e1c3b41948>],\n",
       " 'boxes': [<matplotlib.lines.Line2D at 0x1e1a665b588>],\n",
       " 'medians': [<matplotlib.lines.Line2D at 0x1e1ea671848>],\n",
       " 'fliers': [<matplotlib.lines.Line2D at 0x1e1ea671648>],\n",
       " 'means': []}"
      ]
     },
     "execution_count": 27,
     "metadata": {},
     "output_type": "execute_result"
    },
    {
     "data": {
      "image/png": "[encoded data removed]",
      "text/plain": [
       "<Figure size 432x288 with 1 Axes>"
      ]
     },
     "metadata": {
      "needs_background": "light"
     },
     "output_type": "display_data"
    }
   ],
   "source": [
    "plt.boxplot(df.attachments) # plot and whisk chart comparing attachments as the outlier"
   ]
  },
  {
   "cell_type": "code",
   "execution_count": 34,
   "metadata": {},
   "outputs": [
    {
     "data": {
      "text/plain": [
       "<matplotlib.collections.PathCollection at 0x1e1ecdcb148>"
      ]
     },
     "execution_count": 34,
     "metadata": {},
     "output_type": "execute_result"
    },
    {
     "data": {
      "image/png": "[encoded data removed]",
      "text/plain": [
       "<Figure size 432x288 with 1 Axes>"
      ]
     },
     "metadata": {
      "needs_background": "light"
     },
     "output_type": "display_data"
    }
   ],
   "source": [
    "plt.scatter(df.user, df.attachments)"
   ]
  },
  {
   "cell_type": "code",
   "execution_count": null,
   "metadata": {},
   "outputs": [],
   "source": []
  },
  {
   "cell_type": "code",
   "execution_count": null,
   "metadata": {},
   "outputs": [],
   "source": []
  }
 ],
 "metadata": {
  "kernelspec": {
   "display_name": "Python 3",
   "language": "python",
   "name": "python3"
  },
  "language_info": {
   "codemirror_mode": {
    "name": "ipython",
    "version": 3
   },
   "file_extension": ".py",
   "mimetype": "text/x-python",
   "name": "python",
   "nbconvert_exporter": "python",
   "pygments_lexer": "ipython3",
   "version": "3.7.6"
  }
 },
 "nbformat": 4,
 "nbformat_minor": 4
}
